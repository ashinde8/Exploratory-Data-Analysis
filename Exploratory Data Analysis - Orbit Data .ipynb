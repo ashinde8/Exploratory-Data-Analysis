{
 "cells": [
  {
   "cell_type": "code",
   "execution_count": 1,
   "metadata": {},
   "outputs": [],
   "source": [
    "import pandas as pd"
   ]
  },
  {
   "cell_type": "code",
   "execution_count": 2,
   "metadata": {},
   "outputs": [],
   "source": [
    "df=pd.read_excel(\"Sample File.xlsx\")\n",
    "df2=pd.read_excel(\"Sample File.xlsx\")"
   ]
  },
  {
   "cell_type": "code",
   "execution_count": 3,
   "metadata": {},
   "outputs": [
    {
     "data": {
      "text/html": [
       "<div>\n",
       "<style scoped>\n",
       "    .dataframe tbody tr th:only-of-type {\n",
       "        vertical-align: middle;\n",
       "    }\n",
       "\n",
       "    .dataframe tbody tr th {\n",
       "        vertical-align: top;\n",
       "    }\n",
       "\n",
       "    .dataframe thead th {\n",
       "        text-align: right;\n",
       "    }\n",
       "</style>\n",
       "<table border=\"1\" class=\"dataframe\">\n",
       "  <thead>\n",
       "    <tr style=\"text-align: right;\">\n",
       "      <th></th>\n",
       "      <th>id</th>\n",
       "      <th>time_created</th>\n",
       "      <th>time_updated</th>\n",
       "      <th>agency</th>\n",
       "      <th>external_id</th>\n",
       "      <th>title</th>\n",
       "      <th>url</th>\n",
       "      <th>price</th>\n",
       "      <th>bedrooms</th>\n",
       "      <th>bathrooms</th>\n",
       "      <th>garages</th>\n",
       "      <th>parkings</th>\n",
       "      <th>latitude</th>\n",
       "      <th>longitude</th>\n",
       "      <th>area</th>\n",
       "      <th>status</th>\n",
       "      <th>offering</th>\n",
       "      <th>erf_size</th>\n",
       "      <th>floor_size</th>\n",
       "      <th>property_type</th>\n",
       "    </tr>\n",
       "  </thead>\n",
       "  <tbody>\n",
       "    <tr>\n",
       "      <th>0</th>\n",
       "      <td>188</td>\n",
       "      <td>2019-05-17 19:11:08.691784+00:00</td>\n",
       "      <td>2020-02-12 21:42:34.466622+00:00</td>\n",
       "      <td>dogon_group_properties</td>\n",
       "      <td>RL7861</td>\n",
       "      <td>2 Bedroom Apartment For Sale in Fresnaye</td>\n",
       "      <td>https://www.dogongroup.com/results/residential...</td>\n",
       "      <td>5995000.0</td>\n",
       "      <td>2.0</td>\n",
       "      <td>2.0</td>\n",
       "      <td>NaN</td>\n",
       "      <td>2.0</td>\n",
       "      <td>-33.924799</td>\n",
       "      <td>18.385675</td>\n",
       "      <td>Fresnaye</td>\n",
       "      <td>active</td>\n",
       "      <td>sale</td>\n",
       "      <td>NaN</td>\n",
       "      <td>129.0</td>\n",
       "      <td>apartment</td>\n",
       "    </tr>\n",
       "    <tr>\n",
       "      <th>1</th>\n",
       "      <td>211</td>\n",
       "      <td>2019-05-17 19:11:08.802299+00:00</td>\n",
       "      <td>2020-02-12 21:42:26.722360+00:00</td>\n",
       "      <td>dogon_group_properties</td>\n",
       "      <td>RL7723</td>\n",
       "      <td>3 Bedroom Apartment For Sale in Bantry Bay</td>\n",
       "      <td>https://www.dogongroup.com/results/residential...</td>\n",
       "      <td>6490000.0</td>\n",
       "      <td>3.0</td>\n",
       "      <td>3.0</td>\n",
       "      <td>NaN</td>\n",
       "      <td>1.0</td>\n",
       "      <td>-33.928305</td>\n",
       "      <td>18.379390</td>\n",
       "      <td>Bantry Bay</td>\n",
       "      <td>active</td>\n",
       "      <td>sale</td>\n",
       "      <td>NaN</td>\n",
       "      <td>140.0</td>\n",
       "      <td>apartment</td>\n",
       "    </tr>\n",
       "    <tr>\n",
       "      <th>2</th>\n",
       "      <td>217</td>\n",
       "      <td>2019-05-17 19:11:08.831019+00:00</td>\n",
       "      <td>2020-02-12 21:42:08.399121+00:00</td>\n",
       "      <td>dogon_group_properties</td>\n",
       "      <td>RL7639</td>\n",
       "      <td>5 Bedroom House For Sale in Constantia</td>\n",
       "      <td>https://www.dogongroup.com/results/residential...</td>\n",
       "      <td>7995000.0</td>\n",
       "      <td>5.0</td>\n",
       "      <td>5.0</td>\n",
       "      <td>2.0</td>\n",
       "      <td>NaN</td>\n",
       "      <td>-34.015040</td>\n",
       "      <td>18.439780</td>\n",
       "      <td>Constantia</td>\n",
       "      <td>active</td>\n",
       "      <td>sale</td>\n",
       "      <td>1375.0</td>\n",
       "      <td>NaN</td>\n",
       "      <td>house</td>\n",
       "    </tr>\n",
       "    <tr>\n",
       "      <th>3</th>\n",
       "      <td>271</td>\n",
       "      <td>2019-05-17 19:11:09.096526+00:00</td>\n",
       "      <td>2020-02-12 21:42:03.292978+00:00</td>\n",
       "      <td>dogon_group_properties</td>\n",
       "      <td>RL7263</td>\n",
       "      <td>7 Bedroom House For Sale in Fresnaye</td>\n",
       "      <td>https://www.dogongroup.com/results/residential...</td>\n",
       "      <td>32950000.0</td>\n",
       "      <td>7.0</td>\n",
       "      <td>5.0</td>\n",
       "      <td>2.0</td>\n",
       "      <td>6.0</td>\n",
       "      <td>-33.929890</td>\n",
       "      <td>18.383340</td>\n",
       "      <td>Fresnaye</td>\n",
       "      <td>active</td>\n",
       "      <td>sale</td>\n",
       "      <td>636.0</td>\n",
       "      <td>NaN</td>\n",
       "      <td>house</td>\n",
       "    </tr>\n",
       "    <tr>\n",
       "      <th>4</th>\n",
       "      <td>276</td>\n",
       "      <td>2019-05-17 19:11:09.123885+00:00</td>\n",
       "      <td>2020-02-12 21:42:46.566199+00:00</td>\n",
       "      <td>dogon_group_properties</td>\n",
       "      <td>RL7214</td>\n",
       "      <td>5 Bedroom House For Sale in Constantia</td>\n",
       "      <td>https://www.dogongroup.com/results/residential...</td>\n",
       "      <td>25900000.0</td>\n",
       "      <td>5.0</td>\n",
       "      <td>5.0</td>\n",
       "      <td>3.0</td>\n",
       "      <td>8.0</td>\n",
       "      <td>-34.029720</td>\n",
       "      <td>18.435170</td>\n",
       "      <td>Constantia</td>\n",
       "      <td>active</td>\n",
       "      <td>sale</td>\n",
       "      <td>4000.0</td>\n",
       "      <td>800.0</td>\n",
       "      <td>house</td>\n",
       "    </tr>\n",
       "  </tbody>\n",
       "</table>\n",
       "</div>"
      ],
      "text/plain": [
       "    id                      time_created                      time_updated  \\\n",
       "0  188  2019-05-17 19:11:08.691784+00:00  2020-02-12 21:42:34.466622+00:00   \n",
       "1  211  2019-05-17 19:11:08.802299+00:00  2020-02-12 21:42:26.722360+00:00   \n",
       "2  217  2019-05-17 19:11:08.831019+00:00  2020-02-12 21:42:08.399121+00:00   \n",
       "3  271  2019-05-17 19:11:09.096526+00:00  2020-02-12 21:42:03.292978+00:00   \n",
       "4  276  2019-05-17 19:11:09.123885+00:00  2020-02-12 21:42:46.566199+00:00   \n",
       "\n",
       "                   agency external_id  \\\n",
       "0  dogon_group_properties      RL7861   \n",
       "1  dogon_group_properties      RL7723   \n",
       "2  dogon_group_properties      RL7639   \n",
       "3  dogon_group_properties      RL7263   \n",
       "4  dogon_group_properties      RL7214   \n",
       "\n",
       "                                        title  \\\n",
       "0    2 Bedroom Apartment For Sale in Fresnaye   \n",
       "1  3 Bedroom Apartment For Sale in Bantry Bay   \n",
       "2      5 Bedroom House For Sale in Constantia   \n",
       "3        7 Bedroom House For Sale in Fresnaye   \n",
       "4      5 Bedroom House For Sale in Constantia   \n",
       "\n",
       "                                                 url       price  bedrooms  \\\n",
       "0  https://www.dogongroup.com/results/residential...   5995000.0       2.0   \n",
       "1  https://www.dogongroup.com/results/residential...   6490000.0       3.0   \n",
       "2  https://www.dogongroup.com/results/residential...   7995000.0       5.0   \n",
       "3  https://www.dogongroup.com/results/residential...  32950000.0       7.0   \n",
       "4  https://www.dogongroup.com/results/residential...  25900000.0       5.0   \n",
       "\n",
       "   bathrooms  garages  parkings   latitude  longitude        area  status  \\\n",
       "0        2.0      NaN       2.0 -33.924799  18.385675    Fresnaye  active   \n",
       "1        3.0      NaN       1.0 -33.928305  18.379390  Bantry Bay  active   \n",
       "2        5.0      2.0       NaN -34.015040  18.439780  Constantia  active   \n",
       "3        5.0      2.0       6.0 -33.929890  18.383340    Fresnaye  active   \n",
       "4        5.0      3.0       8.0 -34.029720  18.435170  Constantia  active   \n",
       "\n",
       "  offering  erf_size  floor_size property_type  \n",
       "0     sale       NaN       129.0     apartment  \n",
       "1     sale       NaN       140.0     apartment  \n",
       "2     sale    1375.0         NaN         house  \n",
       "3     sale     636.0         NaN         house  \n",
       "4     sale    4000.0       800.0         house  "
      ]
     },
     "execution_count": 3,
     "metadata": {},
     "output_type": "execute_result"
    }
   ],
   "source": [
    "df.head()"
   ]
  },
  {
   "cell_type": "code",
   "execution_count": 4,
   "metadata": {},
   "outputs": [
    {
     "data": {
      "text/plain": [
       "(1042, 20)"
      ]
     },
     "execution_count": 4,
     "metadata": {},
     "output_type": "execute_result"
    }
   ],
   "source": [
    "df.shape"
   ]
  },
  {
   "cell_type": "code",
   "execution_count": 5,
   "metadata": {},
   "outputs": [
    {
     "name": "stdout",
     "output_type": "stream",
     "text": [
      "<class 'pandas.core.frame.DataFrame'>\n",
      "RangeIndex: 1042 entries, 0 to 1041\n",
      "Data columns (total 20 columns):\n",
      " #   Column         Non-Null Count  Dtype  \n",
      "---  ------         --------------  -----  \n",
      " 0   id             1042 non-null   int64  \n",
      " 1   time_created   1042 non-null   object \n",
      " 2   time_updated   1042 non-null   object \n",
      " 3   agency         1042 non-null   object \n",
      " 4   external_id    1042 non-null   object \n",
      " 5   title          1042 non-null   object \n",
      " 6   url            1042 non-null   object \n",
      " 7   price          911 non-null    float64\n",
      " 8   bedrooms       1012 non-null   float64\n",
      " 9   bathrooms      1002 non-null   float64\n",
      " 10  garages        682 non-null    float64\n",
      " 11  parkings       524 non-null    float64\n",
      " 12  latitude       629 non-null    float64\n",
      " 13  longitude      629 non-null    float64\n",
      " 14  area           1042 non-null   object \n",
      " 15  status         1042 non-null   object \n",
      " 16  offering       882 non-null    object \n",
      " 17  erf_size       679 non-null    float64\n",
      " 18  floor_size     579 non-null    float64\n",
      " 19  property_type  1042 non-null   object \n",
      "dtypes: float64(9), int64(1), object(10)\n",
      "memory usage: 162.9+ KB\n"
     ]
    }
   ],
   "source": [
    "df.info()"
   ]
  },
  {
   "cell_type": "code",
   "execution_count": null,
   "metadata": {},
   "outputs": [],
   "source": [
    "#The features 'id','time_created', 'time_updated', 'agency', 'external_id', 'title', 'url'\n",
    "# as they do not add significant information to the data "
   ]
  },
  {
   "cell_type": "code",
   "execution_count": 6,
   "metadata": {},
   "outputs": [],
   "source": [
    "df.drop(['id','time_created','time_updated','external_id','title','url'],axis=1,inplace=True)"
   ]
  },
  {
   "cell_type": "code",
   "execution_count": 7,
   "metadata": {},
   "outputs": [
    {
     "data": {
      "text/html": [
       "<div>\n",
       "<style scoped>\n",
       "    .dataframe tbody tr th:only-of-type {\n",
       "        vertical-align: middle;\n",
       "    }\n",
       "\n",
       "    .dataframe tbody tr th {\n",
       "        vertical-align: top;\n",
       "    }\n",
       "\n",
       "    .dataframe thead th {\n",
       "        text-align: right;\n",
       "    }\n",
       "</style>\n",
       "<table border=\"1\" class=\"dataframe\">\n",
       "  <thead>\n",
       "    <tr style=\"text-align: right;\">\n",
       "      <th></th>\n",
       "      <th>agency</th>\n",
       "      <th>price</th>\n",
       "      <th>bedrooms</th>\n",
       "      <th>bathrooms</th>\n",
       "      <th>garages</th>\n",
       "      <th>parkings</th>\n",
       "      <th>latitude</th>\n",
       "      <th>longitude</th>\n",
       "      <th>area</th>\n",
       "      <th>status</th>\n",
       "      <th>offering</th>\n",
       "      <th>erf_size</th>\n",
       "      <th>floor_size</th>\n",
       "      <th>property_type</th>\n",
       "    </tr>\n",
       "  </thead>\n",
       "  <tbody>\n",
       "    <tr>\n",
       "      <th>0</th>\n",
       "      <td>dogon_group_properties</td>\n",
       "      <td>5995000.0</td>\n",
       "      <td>2.0</td>\n",
       "      <td>2.0</td>\n",
       "      <td>NaN</td>\n",
       "      <td>2.0</td>\n",
       "      <td>-33.924799</td>\n",
       "      <td>18.385675</td>\n",
       "      <td>Fresnaye</td>\n",
       "      <td>active</td>\n",
       "      <td>sale</td>\n",
       "      <td>NaN</td>\n",
       "      <td>129.0</td>\n",
       "      <td>apartment</td>\n",
       "    </tr>\n",
       "    <tr>\n",
       "      <th>1</th>\n",
       "      <td>dogon_group_properties</td>\n",
       "      <td>6490000.0</td>\n",
       "      <td>3.0</td>\n",
       "      <td>3.0</td>\n",
       "      <td>NaN</td>\n",
       "      <td>1.0</td>\n",
       "      <td>-33.928305</td>\n",
       "      <td>18.379390</td>\n",
       "      <td>Bantry Bay</td>\n",
       "      <td>active</td>\n",
       "      <td>sale</td>\n",
       "      <td>NaN</td>\n",
       "      <td>140.0</td>\n",
       "      <td>apartment</td>\n",
       "    </tr>\n",
       "    <tr>\n",
       "      <th>2</th>\n",
       "      <td>dogon_group_properties</td>\n",
       "      <td>7995000.0</td>\n",
       "      <td>5.0</td>\n",
       "      <td>5.0</td>\n",
       "      <td>2.0</td>\n",
       "      <td>NaN</td>\n",
       "      <td>-34.015040</td>\n",
       "      <td>18.439780</td>\n",
       "      <td>Constantia</td>\n",
       "      <td>active</td>\n",
       "      <td>sale</td>\n",
       "      <td>1375.0</td>\n",
       "      <td>NaN</td>\n",
       "      <td>house</td>\n",
       "    </tr>\n",
       "    <tr>\n",
       "      <th>3</th>\n",
       "      <td>dogon_group_properties</td>\n",
       "      <td>32950000.0</td>\n",
       "      <td>7.0</td>\n",
       "      <td>5.0</td>\n",
       "      <td>2.0</td>\n",
       "      <td>6.0</td>\n",
       "      <td>-33.929890</td>\n",
       "      <td>18.383340</td>\n",
       "      <td>Fresnaye</td>\n",
       "      <td>active</td>\n",
       "      <td>sale</td>\n",
       "      <td>636.0</td>\n",
       "      <td>NaN</td>\n",
       "      <td>house</td>\n",
       "    </tr>\n",
       "  </tbody>\n",
       "</table>\n",
       "</div>"
      ],
      "text/plain": [
       "                   agency       price  bedrooms  bathrooms  garages  parkings  \\\n",
       "0  dogon_group_properties   5995000.0       2.0        2.0      NaN       2.0   \n",
       "1  dogon_group_properties   6490000.0       3.0        3.0      NaN       1.0   \n",
       "2  dogon_group_properties   7995000.0       5.0        5.0      2.0       NaN   \n",
       "3  dogon_group_properties  32950000.0       7.0        5.0      2.0       6.0   \n",
       "\n",
       "    latitude  longitude        area  status offering  erf_size  floor_size  \\\n",
       "0 -33.924799  18.385675    Fresnaye  active     sale       NaN       129.0   \n",
       "1 -33.928305  18.379390  Bantry Bay  active     sale       NaN       140.0   \n",
       "2 -34.015040  18.439780  Constantia  active     sale    1375.0         NaN   \n",
       "3 -33.929890  18.383340    Fresnaye  active     sale     636.0         NaN   \n",
       "\n",
       "  property_type  \n",
       "0     apartment  \n",
       "1     apartment  \n",
       "2         house  \n",
       "3         house  "
      ]
     },
     "execution_count": 7,
     "metadata": {},
     "output_type": "execute_result"
    }
   ],
   "source": [
    "df.head(4)"
   ]
  },
  {
   "cell_type": "code",
   "execution_count": 8,
   "metadata": {},
   "outputs": [
    {
     "data": {
      "text/plain": [
       "(1042, 14)"
      ]
     },
     "execution_count": 8,
     "metadata": {},
     "output_type": "execute_result"
    }
   ],
   "source": [
    "df.shape"
   ]
  },
  {
   "cell_type": "code",
   "execution_count": 9,
   "metadata": {},
   "outputs": [
    {
     "data": {
      "text/plain": [
       "Index(['agency', 'price', 'bedrooms', 'bathrooms', 'garages', 'parkings',\n",
       "       'latitude', 'longitude', 'area', 'status', 'offering', 'erf_size',\n",
       "       'floor_size', 'property_type'],\n",
       "      dtype='object')"
      ]
     },
     "execution_count": 9,
     "metadata": {},
     "output_type": "execute_result"
    }
   ],
   "source": [
    "df.columns"
   ]
  },
  {
   "cell_type": "markdown",
   "metadata": {},
   "source": [
    "# AGENCY"
   ]
  },
  {
   "cell_type": "code",
   "execution_count": 10,
   "metadata": {},
   "outputs": [
    {
     "data": {
      "text/plain": [
       "0"
      ]
     },
     "execution_count": 10,
     "metadata": {},
     "output_type": "execute_result"
    }
   ],
   "source": [
    "df['agency'].isnull().sum()"
   ]
  },
  {
   "cell_type": "code",
   "execution_count": 11,
   "metadata": {},
   "outputs": [
    {
     "data": {
      "text/plain": [
       "pam_golding               160\n",
       "remax                     125\n",
       "seeff                     125\n",
       "jawitz                     94\n",
       "sothebys_realty            84\n",
       "dogon_group_properties     72\n",
       "rawson                     55\n",
       "chas_everitt               49\n",
       "knight_frank               45\n",
       "greef_christies            43\n",
       "live_real_estate           40\n",
       "blue_chip                  37\n",
       "tyson_properties           30\n",
       "hamiltons                  26\n",
       "engel_and_volkers          23\n",
       "the_agency_group           10\n",
       "upton_real_estate           6\n",
       "celsa_properties            3\n",
       "currin_properties           3\n",
       "realtor_of_excellence       2\n",
       "durr_estates                2\n",
       "talana_foot                 1\n",
       "broll                       1\n",
       "acutts                      1\n",
       "harcourts                   1\n",
       "coastal_property_group      1\n",
       "meridian_realty             1\n",
       "property_time               1\n",
       "alexo                       1\n",
       "Name: agency, dtype: int64"
      ]
     },
     "execution_count": 11,
     "metadata": {},
     "output_type": "execute_result"
    }
   ],
   "source": [
    "df['agency'].value_counts()"
   ]
  },
  {
   "cell_type": "code",
   "execution_count": 13,
   "metadata": {},
   "outputs": [
    {
     "data": {
      "image/png": "[encoded data removed]",
      "text/plain": [
       "<Figure size 432x288 with 1 Axes>"
      ]
     },
     "metadata": {
      "needs_background": "light"
     },
     "output_type": "display_data"
    }
   ],
   "source": [
    "import seaborn as sns\n",
    "import matplotlib.pyplot as plt\n",
    "sns.countplot(y=df['agency'])\n",
    "plt.savefig('Agency_Countplot.png')"
   ]
  },
  {
   "cell_type": "markdown",
   "metadata": {},
   "source": [
    "# PRICE"
   ]
  },
  {
   "cell_type": "code",
   "execution_count": 14,
   "metadata": {},
   "outputs": [
    {
     "data": {
      "text/plain": [
       "131"
      ]
     },
     "execution_count": 14,
     "metadata": {},
     "output_type": "execute_result"
    }
   ],
   "source": [
    "df['price'].isnull().sum()"
   ]
  },
  {
   "cell_type": "code",
   "execution_count": 15,
   "metadata": {},
   "outputs": [
    {
     "name": "stdout",
     "output_type": "stream",
     "text": [
      "Percentage of missing values for the 'parkings' feature is:  12.571976967370441 %\n"
     ]
    }
   ],
   "source": [
    "#Percentage of missing values for the feature 'parkings' is very high\n",
    "print(\"Percentage of missing values for the 'parkings' feature is: \", (df['price'].isnull().sum()/len(df))*100, \"%\")"
   ]
  },
  {
   "cell_type": "code",
   "execution_count": null,
   "metadata": {},
   "outputs": [],
   "source": [
    "#The feature 'price' has 131 missing values out of the 1042 rows"
   ]
  },
  {
   "cell_type": "code",
   "execution_count": 16,
   "metadata": {},
   "outputs": [
    {
     "data": {
      "text/html": [
       "<div>\n",
       "<style scoped>\n",
       "    .dataframe tbody tr th:only-of-type {\n",
       "        vertical-align: middle;\n",
       "    }\n",
       "\n",
       "    .dataframe tbody tr th {\n",
       "        vertical-align: top;\n",
       "    }\n",
       "\n",
       "    .dataframe thead th {\n",
       "        text-align: right;\n",
       "    }\n",
       "</style>\n",
       "<table border=\"1\" class=\"dataframe\">\n",
       "  <thead>\n",
       "    <tr style=\"text-align: right;\">\n",
       "      <th></th>\n",
       "      <th>agency</th>\n",
       "      <th>price</th>\n",
       "      <th>bedrooms</th>\n",
       "      <th>bathrooms</th>\n",
       "      <th>garages</th>\n",
       "      <th>parkings</th>\n",
       "      <th>latitude</th>\n",
       "      <th>longitude</th>\n",
       "      <th>area</th>\n",
       "      <th>status</th>\n",
       "      <th>offering</th>\n",
       "      <th>erf_size</th>\n",
       "      <th>floor_size</th>\n",
       "      <th>property_type</th>\n",
       "    </tr>\n",
       "  </thead>\n",
       "  <tbody>\n",
       "    <tr>\n",
       "      <th>270</th>\n",
       "      <td>sothebys_realty</td>\n",
       "      <td>NaN</td>\n",
       "      <td>0.0</td>\n",
       "      <td>0.0</td>\n",
       "      <td>NaN</td>\n",
       "      <td>NaN</td>\n",
       "      <td>NaN</td>\n",
       "      <td>NaN</td>\n",
       "      <td>Constantia</td>\n",
       "      <td>active</td>\n",
       "      <td>sale</td>\n",
       "      <td>NaN</td>\n",
       "      <td>NaN</td>\n",
       "      <td>vacant_land</td>\n",
       "    </tr>\n",
       "    <tr>\n",
       "      <th>319</th>\n",
       "      <td>sothebys_realty</td>\n",
       "      <td>NaN</td>\n",
       "      <td>8.0</td>\n",
       "      <td>10.0</td>\n",
       "      <td>4.0</td>\n",
       "      <td>NaN</td>\n",
       "      <td>NaN</td>\n",
       "      <td>NaN</td>\n",
       "      <td>Constantia</td>\n",
       "      <td>active</td>\n",
       "      <td>sale</td>\n",
       "      <td>8319.0</td>\n",
       "      <td>NaN</td>\n",
       "      <td>house</td>\n",
       "    </tr>\n",
       "    <tr>\n",
       "      <th>657</th>\n",
       "      <td>engel_and_volkers</td>\n",
       "      <td>NaN</td>\n",
       "      <td>5.0</td>\n",
       "      <td>5.0</td>\n",
       "      <td>2.0</td>\n",
       "      <td>NaN</td>\n",
       "      <td>NaN</td>\n",
       "      <td>NaN</td>\n",
       "      <td>Fresnaye</td>\n",
       "      <td>active</td>\n",
       "      <td>rent</td>\n",
       "      <td>NaN</td>\n",
       "      <td>NaN</td>\n",
       "      <td>house</td>\n",
       "    </tr>\n",
       "    <tr>\n",
       "      <th>699</th>\n",
       "      <td>remax</td>\n",
       "      <td>NaN</td>\n",
       "      <td>3.0</td>\n",
       "      <td>2.0</td>\n",
       "      <td>NaN</td>\n",
       "      <td>NaN</td>\n",
       "      <td>NaN</td>\n",
       "      <td>NaN</td>\n",
       "      <td>Fresnaye</td>\n",
       "      <td>active</td>\n",
       "      <td>rent</td>\n",
       "      <td>NaN</td>\n",
       "      <td>155.0</td>\n",
       "      <td>apartment</td>\n",
       "    </tr>\n",
       "    <tr>\n",
       "      <th>700</th>\n",
       "      <td>remax</td>\n",
       "      <td>NaN</td>\n",
       "      <td>4.0</td>\n",
       "      <td>4.0</td>\n",
       "      <td>NaN</td>\n",
       "      <td>4.0</td>\n",
       "      <td>NaN</td>\n",
       "      <td>NaN</td>\n",
       "      <td>Constantia</td>\n",
       "      <td>active</td>\n",
       "      <td>buy</td>\n",
       "      <td>1750.0</td>\n",
       "      <td>NaN</td>\n",
       "      <td>house</td>\n",
       "    </tr>\n",
       "    <tr>\n",
       "      <th>...</th>\n",
       "      <td>...</td>\n",
       "      <td>...</td>\n",
       "      <td>...</td>\n",
       "      <td>...</td>\n",
       "      <td>...</td>\n",
       "      <td>...</td>\n",
       "      <td>...</td>\n",
       "      <td>...</td>\n",
       "      <td>...</td>\n",
       "      <td>...</td>\n",
       "      <td>...</td>\n",
       "      <td>...</td>\n",
       "      <td>...</td>\n",
       "      <td>...</td>\n",
       "    </tr>\n",
       "    <tr>\n",
       "      <th>958</th>\n",
       "      <td>remax</td>\n",
       "      <td>NaN</td>\n",
       "      <td>4.0</td>\n",
       "      <td>2.0</td>\n",
       "      <td>NaN</td>\n",
       "      <td>NaN</td>\n",
       "      <td>NaN</td>\n",
       "      <td>NaN</td>\n",
       "      <td>Constantia</td>\n",
       "      <td>active</td>\n",
       "      <td>buy</td>\n",
       "      <td>1914.0</td>\n",
       "      <td>NaN</td>\n",
       "      <td>house</td>\n",
       "    </tr>\n",
       "    <tr>\n",
       "      <th>963</th>\n",
       "      <td>remax</td>\n",
       "      <td>NaN</td>\n",
       "      <td>5.0</td>\n",
       "      <td>3.0</td>\n",
       "      <td>NaN</td>\n",
       "      <td>2.0</td>\n",
       "      <td>NaN</td>\n",
       "      <td>NaN</td>\n",
       "      <td>Constantia</td>\n",
       "      <td>active</td>\n",
       "      <td>buy</td>\n",
       "      <td>874.0</td>\n",
       "      <td>235.0</td>\n",
       "      <td>house</td>\n",
       "    </tr>\n",
       "    <tr>\n",
       "      <th>967</th>\n",
       "      <td>remax</td>\n",
       "      <td>NaN</td>\n",
       "      <td>5.0</td>\n",
       "      <td>6.0</td>\n",
       "      <td>NaN</td>\n",
       "      <td>2.0</td>\n",
       "      <td>NaN</td>\n",
       "      <td>NaN</td>\n",
       "      <td>Constantia</td>\n",
       "      <td>active</td>\n",
       "      <td>buy</td>\n",
       "      <td>6151.0</td>\n",
       "      <td>1100.0</td>\n",
       "      <td>house</td>\n",
       "    </tr>\n",
       "    <tr>\n",
       "      <th>968</th>\n",
       "      <td>knight_frank</td>\n",
       "      <td>NaN</td>\n",
       "      <td>4.0</td>\n",
       "      <td>4.0</td>\n",
       "      <td>2.0</td>\n",
       "      <td>NaN</td>\n",
       "      <td>-33.922105</td>\n",
       "      <td>18.388389</td>\n",
       "      <td>Fresnaye</td>\n",
       "      <td>active</td>\n",
       "      <td>sale</td>\n",
       "      <td>398.0</td>\n",
       "      <td>NaN</td>\n",
       "      <td>house</td>\n",
       "    </tr>\n",
       "    <tr>\n",
       "      <th>969</th>\n",
       "      <td>knight_frank</td>\n",
       "      <td>NaN</td>\n",
       "      <td>0.0</td>\n",
       "      <td>0.0</td>\n",
       "      <td>NaN</td>\n",
       "      <td>NaN</td>\n",
       "      <td>-33.930710</td>\n",
       "      <td>18.380450</td>\n",
       "      <td>Bantry Bay</td>\n",
       "      <td>active</td>\n",
       "      <td>sale</td>\n",
       "      <td>NaN</td>\n",
       "      <td>NaN</td>\n",
       "      <td>vacant_land</td>\n",
       "    </tr>\n",
       "  </tbody>\n",
       "</table>\n",
       "<p>131 rows × 14 columns</p>\n",
       "</div>"
      ],
      "text/plain": [
       "                agency  price  bedrooms  bathrooms  garages  parkings  \\\n",
       "270    sothebys_realty    NaN       0.0        0.0      NaN       NaN   \n",
       "319    sothebys_realty    NaN       8.0       10.0      4.0       NaN   \n",
       "657  engel_and_volkers    NaN       5.0        5.0      2.0       NaN   \n",
       "699              remax    NaN       3.0        2.0      NaN       NaN   \n",
       "700              remax    NaN       4.0        4.0      NaN       4.0   \n",
       "..                 ...    ...       ...        ...      ...       ...   \n",
       "958              remax    NaN       4.0        2.0      NaN       NaN   \n",
       "963              remax    NaN       5.0        3.0      NaN       2.0   \n",
       "967              remax    NaN       5.0        6.0      NaN       2.0   \n",
       "968       knight_frank    NaN       4.0        4.0      2.0       NaN   \n",
       "969       knight_frank    NaN       0.0        0.0      NaN       NaN   \n",
       "\n",
       "      latitude  longitude        area  status offering  erf_size  floor_size  \\\n",
       "270        NaN        NaN  Constantia  active     sale       NaN         NaN   \n",
       "319        NaN        NaN  Constantia  active     sale    8319.0         NaN   \n",
       "657        NaN        NaN    Fresnaye  active     rent       NaN         NaN   \n",
       "699        NaN        NaN    Fresnaye  active     rent       NaN       155.0   \n",
       "700        NaN        NaN  Constantia  active      buy    1750.0         NaN   \n",
       "..         ...        ...         ...     ...      ...       ...         ...   \n",
       "958        NaN        NaN  Constantia  active      buy    1914.0         NaN   \n",
       "963        NaN        NaN  Constantia  active      buy     874.0       235.0   \n",
       "967        NaN        NaN  Constantia  active      buy    6151.0      1100.0   \n",
       "968 -33.922105  18.388389    Fresnaye  active     sale     398.0         NaN   \n",
       "969 -33.930710  18.380450  Bantry Bay  active     sale       NaN         NaN   \n",
       "\n",
       "    property_type  \n",
       "270   vacant_land  \n",
       "319         house  \n",
       "657         house  \n",
       "699     apartment  \n",
       "700         house  \n",
       "..            ...  \n",
       "958         house  \n",
       "963         house  \n",
       "967         house  \n",
       "968         house  \n",
       "969   vacant_land  \n",
       "\n",
       "[131 rows x 14 columns]"
      ]
     },
     "execution_count": 16,
     "metadata": {},
     "output_type": "execute_result"
    }
   ],
   "source": [
    "df[df['price'].isnull()]"
   ]
  },
  {
   "cell_type": "code",
   "execution_count": 17,
   "metadata": {},
   "outputs": [],
   "source": [
    "import matplotlib.pyplot as plt\n",
    "import seaborn as sns"
   ]
  },
  {
   "cell_type": "code",
   "execution_count": 18,
   "metadata": {},
   "outputs": [
    {
     "name": "stderr",
     "output_type": "stream",
     "text": [
      "D:\\ANA\\lib\\site-packages\\numpy\\lib\\histograms.py:839: RuntimeWarning: invalid value encountered in greater_equal\n",
      "  keep = (tmp_a >= first_edge)\n",
      "D:\\ANA\\lib\\site-packages\\numpy\\lib\\histograms.py:840: RuntimeWarning: invalid value encountered in less_equal\n",
      "  keep &= (tmp_a <= last_edge)\n"
     ]
    },
    {
     "data": {
      "image/png": "[encoded data removed]",
      "text/plain": [
       "<Figure size 432x288 with 1 Axes>"
      ]
     },
     "metadata": {
      "needs_background": "light"
     },
     "output_type": "display_data"
    }
   ],
   "source": [
    "plt.hist(df['price'])\n",
    "plt.savefig('Price_Histogram.png')\n",
    "plt.show()"
   ]
  },
  {
   "cell_type": "markdown",
   "metadata": {},
   "source": [
    "# BEDROOMS"
   ]
  },
  {
   "cell_type": "code",
   "execution_count": 19,
   "metadata": {},
   "outputs": [
    {
     "data": {
      "text/plain": [
       "30"
      ]
     },
     "execution_count": 19,
     "metadata": {},
     "output_type": "execute_result"
    }
   ],
   "source": [
    "df['bedrooms'].isnull().sum()"
   ]
  },
  {
   "cell_type": "code",
   "execution_count": 20,
   "metadata": {},
   "outputs": [
    {
     "data": {
      "text/plain": [
       "4.0     292\n",
       "3.0     235\n",
       "5.0     188\n",
       "2.0     117\n",
       "6.0      65\n",
       "1.0      32\n",
       "0.0      31\n",
       "7.0      28\n",
       "8.0       9\n",
       "10.0      6\n",
       "9.0       6\n",
       "11.0      2\n",
       "12.0      1\n",
       "Name: bedrooms, dtype: int64"
      ]
     },
     "execution_count": 20,
     "metadata": {},
     "output_type": "execute_result"
    }
   ],
   "source": [
    "df['bedrooms'].value_counts()"
   ]
  },
  {
   "cell_type": "code",
   "execution_count": 21,
   "metadata": {},
   "outputs": [
    {
     "data": {
      "image/png": "[encoded data removed]",
      "text/plain": [
       "<Figure size 432x288 with 1 Axes>"
      ]
     },
     "metadata": {
      "needs_background": "light"
     },
     "output_type": "display_data"
    }
   ],
   "source": [
    "sns.countplot(y=df['bedrooms'])\n",
    "plt.savefig('Bedrooms_Countplot.png')"
   ]
  },
  {
   "cell_type": "code",
   "execution_count": 22,
   "metadata": {},
   "outputs": [],
   "source": [
    "mode = 4"
   ]
  },
  {
   "cell_type": "code",
   "execution_count": 23,
   "metadata": {},
   "outputs": [],
   "source": [
    "df['bedrooms'].fillna(mode,inplace=True)"
   ]
  },
  {
   "cell_type": "code",
   "execution_count": 24,
   "metadata": {},
   "outputs": [
    {
     "data": {
      "text/plain": [
       "4.0     322\n",
       "3.0     235\n",
       "5.0     188\n",
       "2.0     117\n",
       "6.0      65\n",
       "1.0      32\n",
       "0.0      31\n",
       "7.0      28\n",
       "8.0       9\n",
       "10.0      6\n",
       "9.0       6\n",
       "11.0      2\n",
       "12.0      1\n",
       "Name: bedrooms, dtype: int64"
      ]
     },
     "execution_count": 24,
     "metadata": {},
     "output_type": "execute_result"
    }
   ],
   "source": [
    "df['bedrooms'].value_counts()"
   ]
  },
  {
   "cell_type": "code",
   "execution_count": 25,
   "metadata": {},
   "outputs": [
    {
     "data": {
      "text/plain": [
       "0"
      ]
     },
     "execution_count": 25,
     "metadata": {},
     "output_type": "execute_result"
    }
   ],
   "source": [
    "df['bedrooms'].isnull().sum()"
   ]
  },
  {
   "cell_type": "markdown",
   "metadata": {},
   "source": [
    "# BATHROOMS"
   ]
  },
  {
   "cell_type": "code",
   "execution_count": 26,
   "metadata": {},
   "outputs": [
    {
     "data": {
      "text/plain": [
       "40"
      ]
     },
     "execution_count": 26,
     "metadata": {},
     "output_type": "execute_result"
    }
   ],
   "source": [
    "df['bathrooms'].isnull().sum()"
   ]
  },
  {
   "cell_type": "code",
   "execution_count": 27,
   "metadata": {},
   "outputs": [
    {
     "data": {
      "text/plain": [
       "4.0     227\n",
       "3.0     226\n",
       "2.0     195\n",
       "5.0     145\n",
       "6.0      64\n",
       "1.0      61\n",
       "7.0      32\n",
       "0.0      25\n",
       "8.0       9\n",
       "10.0      8\n",
       "9.0       6\n",
       "11.0      2\n",
       "12.0      2\n",
       "Name: bathrooms, dtype: int64"
      ]
     },
     "execution_count": 27,
     "metadata": {},
     "output_type": "execute_result"
    }
   ],
   "source": [
    "df['bathrooms'].value_counts()"
   ]
  },
  {
   "cell_type": "code",
   "execution_count": 28,
   "metadata": {},
   "outputs": [
    {
     "data": {
      "image/png": "[encoded data removed]",
      "text/plain": [
       "<Figure size 432x288 with 1 Axes>"
      ]
     },
     "metadata": {
      "needs_background": "light"
     },
     "output_type": "display_data"
    }
   ],
   "source": [
    "sns.countplot(y=df['bathrooms'])\n",
    "plt.savefig('Bathrooms_Countplot.png')"
   ]
  },
  {
   "cell_type": "code",
   "execution_count": 29,
   "metadata": {},
   "outputs": [
    {
     "name": "stdout",
     "output_type": "stream",
     "text": [
      "Percentage of missing values for the 'parkings' feature is:  3.8387715930902107 %\n"
     ]
    }
   ],
   "source": [
    "#Percentage of missing values for the feature 'parkings' is very high\n",
    "print(\"Percentage of missing values for the 'parkings' feature is: \", (df['bathrooms'].isnull().sum()/len(df))*100, \"%\")"
   ]
  },
  {
   "cell_type": "markdown",
   "metadata": {},
   "source": [
    "# GARAGES"
   ]
  },
  {
   "cell_type": "code",
   "execution_count": 30,
   "metadata": {},
   "outputs": [
    {
     "data": {
      "text/plain": [
       "360"
      ]
     },
     "execution_count": 30,
     "metadata": {},
     "output_type": "execute_result"
    }
   ],
   "source": [
    "df['garages'].isnull().sum()"
   ]
  },
  {
   "cell_type": "code",
   "execution_count": 31,
   "metadata": {},
   "outputs": [
    {
     "data": {
      "text/plain": [
       "2.0     409\n",
       "3.0      91\n",
       "1.0      86\n",
       "4.0      72\n",
       "6.0       9\n",
       "5.0       7\n",
       "8.0       3\n",
       "10.0      3\n",
       "7.0       1\n",
       "9.0       1\n",
       "Name: garages, dtype: int64"
      ]
     },
     "execution_count": 31,
     "metadata": {},
     "output_type": "execute_result"
    }
   ],
   "source": [
    "df['garages'].value_counts()"
   ]
  },
  {
   "cell_type": "code",
   "execution_count": 32,
   "metadata": {},
   "outputs": [
    {
     "name": "stdout",
     "output_type": "stream",
     "text": [
      "Percentage of missing values for the 'parkings' feature is:  34.548944337811896 %\n"
     ]
    }
   ],
   "source": [
    "#Percentage of missing values for the feature 'parkings' is very high\n",
    "print(\"Percentage of missing values for the 'parkings' feature is: \", (df['garages'].isnull().sum()/len(df))*100, \"%\")"
   ]
  },
  {
   "cell_type": "markdown",
   "metadata": {},
   "source": [
    "# PARKINGS"
   ]
  },
  {
   "cell_type": "code",
   "execution_count": 33,
   "metadata": {},
   "outputs": [
    {
     "data": {
      "text/plain": [
       "518"
      ]
     },
     "execution_count": 33,
     "metadata": {},
     "output_type": "execute_result"
    }
   ],
   "source": [
    "df['parkings'].isnull().sum()"
   ]
  },
  {
   "cell_type": "code",
   "execution_count": 34,
   "metadata": {},
   "outputs": [
    {
     "name": "stdout",
     "output_type": "stream",
     "text": [
      "Percentage of missing values for the 'parkings' feature is:  49.71209213051823 %\n"
     ]
    }
   ],
   "source": [
    "#Percentage of missing values for the feature 'parkings' is very high\n",
    "print(\"Percentage of missing values for the 'parkings' feature is: \", (df['parkings'].isnull().sum()/len(df))*100, \"%\")"
   ]
  },
  {
   "cell_type": "code",
   "execution_count": 35,
   "metadata": {},
   "outputs": [
    {
     "data": {
      "text/plain": [
       "2.0     222\n",
       "1.0      93\n",
       "4.0      85\n",
       "3.0      39\n",
       "6.0      35\n",
       "5.0      20\n",
       "10.0      9\n",
       "8.0       8\n",
       "7.0       3\n",
       "12.0      3\n",
       "9.0       3\n",
       "15.0      2\n",
       "11.0      1\n",
       "13.0      1\n",
       "Name: parkings, dtype: int64"
      ]
     },
     "execution_count": 35,
     "metadata": {},
     "output_type": "execute_result"
    }
   ],
   "source": [
    "df['parkings'].value_counts()"
   ]
  },
  {
   "cell_type": "markdown",
   "metadata": {},
   "source": [
    "# AREA"
   ]
  },
  {
   "cell_type": "code",
   "execution_count": 36,
   "metadata": {},
   "outputs": [
    {
     "data": {
      "text/plain": [
       "0"
      ]
     },
     "execution_count": 36,
     "metadata": {},
     "output_type": "execute_result"
    }
   ],
   "source": [
    "df['area'].isnull().sum()"
   ]
  },
  {
   "cell_type": "code",
   "execution_count": 37,
   "metadata": {},
   "outputs": [
    {
     "data": {
      "text/plain": [
       "Constantia    547\n",
       "Fresnaye      236\n",
       "Bantry Bay    227\n",
       "Bakoven        32\n",
       "Name: area, dtype: int64"
      ]
     },
     "execution_count": 37,
     "metadata": {},
     "output_type": "execute_result"
    }
   ],
   "source": [
    "df['area'].value_counts()"
   ]
  },
  {
   "cell_type": "code",
   "execution_count": 38,
   "metadata": {},
   "outputs": [
    {
     "data": {
      "image/png": "[encoded data removed]",
      "text/plain": [
       "<Figure size 432x288 with 1 Axes>"
      ]
     },
     "metadata": {
      "needs_background": "light"
     },
     "output_type": "display_data"
    }
   ],
   "source": [
    "sns.countplot(x=df['area'])\n",
    "plt.savefig('Area_Countplot.png')"
   ]
  },
  {
   "cell_type": "code",
   "execution_count": 39,
   "metadata": {},
   "outputs": [
    {
     "data": {
      "image/png": "[encoded data removed]",
      "text/plain": [
       "<Figure size 432x288 with 1 Axes>"
      ]
     },
     "metadata": {},
     "output_type": "display_data"
    }
   ],
   "source": [
    "# Pie chart\n",
    "labels = ['Fresnaye', 'Bantry Bay', 'Constantia','Bakoven']\n",
    "sizes = [236, 227, 547, 32]\n",
    "colors = ['#ff9999','#66b3ff','#99ff99','#ffcc99']\n",
    "\n",
    "# only \"explode\" the 2nd slice (i.e. 'Rent')\n",
    "explode = (0, 0.1, 0,0)  \n",
    "fig1, ax1 = plt.subplots()\n",
    "ax1.pie(sizes, explode=explode, labels=labels, autopct='%1.1f%%',\n",
    "        shadow=True, startangle=90)\n",
    "# Equal aspect ratio ensures that pie is drawn as a circle\n",
    "ax1.axis('equal')  \n",
    "plt.tight_layout()\n",
    "plt.savefig('Area_PieChart.png')\n",
    "plt.show()"
   ]
  },
  {
   "cell_type": "code",
   "execution_count": 40,
   "metadata": {},
   "outputs": [
    {
     "data": {
      "image/png": "[encoded data removed]",
      "text/plain": [
       "<Figure size 432x288 with 1 Axes>"
      ]
     },
     "metadata": {},
     "output_type": "display_data"
    }
   ],
   "source": [
    "# Pie chart\n",
    "labels = ['Fresnaye', 'Bantry Bay', 'Constantia','Bakoven']\n",
    "sizes = [236, 227, 547, 32]\n",
    "#colors\n",
    "colors = ['#ff9999','#66b3ff','#99ff99','#ffcc99']\n",
    "#explsion\n",
    "explode = (0.05,0.05,0.05,0.05)\n",
    " \n",
    "plt.pie(sizes, labels=labels, autopct='%1.1f%%', startangle=90, pctdistance=0.85, explode = explode)\n",
    "#draw circle\n",
    "centre_circle = plt.Circle((0,0),0.70,fc='white')\n",
    "fig = plt.gcf()\n",
    "fig.gca().add_artist(centre_circle)\n",
    "# Equal aspect ratio ensures that pie is drawn as a circle\n",
    "ax1.axis('equal')  \n",
    "plt.tight_layout()\n",
    "plt.savefig('Area_PieChart2.png')\n",
    "plt.show()\n"
   ]
  },
  {
   "cell_type": "markdown",
   "metadata": {},
   "source": [
    "# STATUS"
   ]
  },
  {
   "cell_type": "code",
   "execution_count": 41,
   "metadata": {},
   "outputs": [
    {
     "data": {
      "text/plain": [
       "0"
      ]
     },
     "execution_count": 41,
     "metadata": {},
     "output_type": "execute_result"
    }
   ],
   "source": [
    "df['status'].isnull().sum()"
   ]
  },
  {
   "cell_type": "code",
   "execution_count": 42,
   "metadata": {},
   "outputs": [
    {
     "data": {
      "text/plain": [
       "active    1042\n",
       "Name: status, dtype: int64"
      ]
     },
     "execution_count": 42,
     "metadata": {},
     "output_type": "execute_result"
    }
   ],
   "source": [
    "df['status'].value_counts()"
   ]
  },
  {
   "cell_type": "markdown",
   "metadata": {},
   "source": [
    "# OFFERING"
   ]
  },
  {
   "cell_type": "code",
   "execution_count": 43,
   "metadata": {},
   "outputs": [
    {
     "data": {
      "text/plain": [
       "160"
      ]
     },
     "execution_count": 43,
     "metadata": {},
     "output_type": "execute_result"
    }
   ],
   "source": [
    "df['offering'].isnull().sum()"
   ]
  },
  {
   "cell_type": "code",
   "execution_count": 44,
   "metadata": {},
   "outputs": [
    {
     "data": {
      "text/plain": [
       "sale    630\n",
       "rent    132\n",
       "buy     120\n",
       "Name: offering, dtype: int64"
      ]
     },
     "execution_count": 44,
     "metadata": {},
     "output_type": "execute_result"
    }
   ],
   "source": [
    "df['offering'].value_counts()"
   ]
  },
  {
   "cell_type": "code",
   "execution_count": 45,
   "metadata": {},
   "outputs": [
    {
     "data": {
      "image/png": "[encoded data removed]",
      "text/plain": [
       "<Figure size 432x288 with 1 Axes>"
      ]
     },
     "metadata": {
      "needs_background": "light"
     },
     "output_type": "display_data"
    }
   ],
   "source": [
    "sns.countplot(x=df['offering'])\n",
    "plt.savefig('Offering_Countplot.png')"
   ]
  },
  {
   "cell_type": "code",
   "execution_count": 46,
   "metadata": {},
   "outputs": [
    {
     "data": {
      "image/png": "[encoded data removed]",
      "text/plain": [
       "<Figure size 432x288 with 1 Axes>"
      ]
     },
     "metadata": {},
     "output_type": "display_data"
    }
   ],
   "source": [
    "# Pie chart\n",
    "labels = ['Sale', 'Rent', 'Buy']\n",
    "sizes = [630, 132, 120]\n",
    "# only \"explode\" the 2nd slice (i.e. 'Rent')\n",
    "explode = (0, 0.1, 0)  \n",
    "fig1, ax1 = plt.subplots()\n",
    "ax1.pie(sizes, explode=explode, labels=labels, autopct='%1.1f%%',\n",
    "        shadow=True, startangle=90)\n",
    "# Equal aspect ratio ensures that pie is drawn as a circle\n",
    "ax1.axis('equal')  \n",
    "plt.tight_layout()\n",
    "plt.savefig('Offering_PieChart.png')\n",
    "plt.show()"
   ]
  },
  {
   "cell_type": "code",
   "execution_count": 47,
   "metadata": {},
   "outputs": [
    {
     "data": {
      "image/png": "[encoded data removed]",
      "text/plain": [
       "<Figure size 432x288 with 1 Axes>"
      ]
     },
     "metadata": {},
     "output_type": "display_data"
    }
   ],
   "source": [
    "# Pie chart\n",
    "labels = ['Sale', 'Rent', 'Buy']\n",
    "sizes = [630, 132, 120]\n",
    "\n",
    "#colors\n",
    "colors = ['#ff9999','#66b3ff','#99ff99','#ffcc99']\n",
    "#explsion\n",
    "explode = (0.05,0.05,0)\n",
    " \n",
    "plt.pie(sizes, labels=labels, autopct='%1.1f%%', startangle=90, pctdistance=0.85, explode = explode)\n",
    "#draw circle\n",
    "centre_circle = plt.Circle((0,0),0.70,fc='white')\n",
    "fig = plt.gcf()\n",
    "fig.gca().add_artist(centre_circle)\n",
    "# Equal aspect ratio ensures that pie is drawn as a circle\n",
    "ax1.axis('equal')  \n",
    "plt.tight_layout()\n",
    "plt.savefig('Offering_PieChart2.png')\n",
    "plt.show()\n"
   ]
  },
  {
   "cell_type": "markdown",
   "metadata": {},
   "source": [
    "# ERF_SIZE"
   ]
  },
  {
   "cell_type": "code",
   "execution_count": 48,
   "metadata": {},
   "outputs": [
    {
     "data": {
      "text/plain": [
       "363"
      ]
     },
     "execution_count": 48,
     "metadata": {},
     "output_type": "execute_result"
    }
   ],
   "source": [
    "df['erf_size'].isnull().sum()"
   ]
  },
  {
   "cell_type": "code",
   "execution_count": 49,
   "metadata": {},
   "outputs": [
    {
     "data": {
      "image/png": "[encoded data removed]",
      "text/plain": [
       "<Figure size 432x288 with 1 Axes>"
      ]
     },
     "metadata": {
      "needs_background": "light"
     },
     "output_type": "display_data"
    }
   ],
   "source": [
    "plt.hist(df['erf_size'])\n",
    "plt.savefig('Erf_size_Histogram.png')\n",
    "plt.show()"
   ]
  },
  {
   "cell_type": "markdown",
   "metadata": {},
   "source": [
    "# FLOOR_SIZE"
   ]
  },
  {
   "cell_type": "code",
   "execution_count": 50,
   "metadata": {},
   "outputs": [
    {
     "data": {
      "text/plain": [
       "463"
      ]
     },
     "execution_count": 50,
     "metadata": {},
     "output_type": "execute_result"
    }
   ],
   "source": [
    "df['floor_size'].isnull().sum()"
   ]
  },
  {
   "cell_type": "code",
   "execution_count": 51,
   "metadata": {},
   "outputs": [
    {
     "name": "stdout",
     "output_type": "stream",
     "text": [
      "Percentage of missing values for the 'parkings' feature is:  44.4337811900192 %\n"
     ]
    }
   ],
   "source": [
    "#Percentage of missing values for the feature 'parkings' is very high\n",
    "print(\"Percentage of missing values for the 'parkings' feature is: \", (df['floor_size'].isnull().sum()/len(df))*100, \"%\")"
   ]
  },
  {
   "cell_type": "code",
   "execution_count": 52,
   "metadata": {},
   "outputs": [
    {
     "data": {
      "image/png": "[encoded data removed]",
      "text/plain": [
       "<Figure size 432x288 with 1 Axes>"
      ]
     },
     "metadata": {
      "needs_background": "light"
     },
     "output_type": "display_data"
    }
   ],
   "source": [
    "plt.hist(df['floor_size'])\n",
    "plt.savefig('Floor_size_PieChart.png')\n",
    "plt.show()"
   ]
  },
  {
   "cell_type": "markdown",
   "metadata": {},
   "source": [
    "# PROPERTY_TYPE"
   ]
  },
  {
   "cell_type": "code",
   "execution_count": 53,
   "metadata": {},
   "outputs": [
    {
     "data": {
      "text/plain": [
       "0"
      ]
     },
     "execution_count": 53,
     "metadata": {},
     "output_type": "execute_result"
    }
   ],
   "source": [
    "df['property_type'].isnull().sum()"
   ]
  },
  {
   "cell_type": "code",
   "execution_count": 54,
   "metadata": {},
   "outputs": [
    {
     "data": {
      "text/plain": [
       "house              704\n",
       "apartment          243\n",
       "vacant_land         60\n",
       "['house']           28\n",
       "['vacant_land']      3\n",
       "['apartment']        2\n",
       "[None]               2\n",
       "Name: property_type, dtype: int64"
      ]
     },
     "execution_count": 54,
     "metadata": {},
     "output_type": "execute_result"
    }
   ],
   "source": [
    "df['property_type'].value_counts()"
   ]
  },
  {
   "cell_type": "code",
   "execution_count": 55,
   "metadata": {},
   "outputs": [],
   "source": [
    "df['property_type'] = df['property_type'].replace(\"['house']\",'house')"
   ]
  },
  {
   "cell_type": "code",
   "execution_count": 56,
   "metadata": {},
   "outputs": [],
   "source": [
    "df['property_type'] = df['property_type'].replace(\"['apartment']\",'apartment')"
   ]
  },
  {
   "cell_type": "code",
   "execution_count": 57,
   "metadata": {},
   "outputs": [],
   "source": [
    "df['property_type'] = df['property_type'].replace(\"['vacant_land']\",'vacant_land')"
   ]
  },
  {
   "cell_type": "code",
   "execution_count": 58,
   "metadata": {},
   "outputs": [
    {
     "data": {
      "text/plain": [
       "house          732\n",
       "apartment      245\n",
       "vacant_land     63\n",
       "[None]           2\n",
       "Name: property_type, dtype: int64"
      ]
     },
     "execution_count": 58,
     "metadata": {},
     "output_type": "execute_result"
    }
   ],
   "source": [
    "df.property_type.value_counts()"
   ]
  },
  {
   "cell_type": "code",
   "execution_count": null,
   "metadata": {},
   "outputs": [],
   "source": [
    "#Replacing the property_type '[None]' with the mode of property_type i.e. with 'house' "
   ]
  },
  {
   "cell_type": "code",
   "execution_count": 59,
   "metadata": {},
   "outputs": [],
   "source": [
    "df['property_type'] = df['property_type'].replace(\"[None]\",'house')"
   ]
  },
  {
   "cell_type": "code",
   "execution_count": 60,
   "metadata": {},
   "outputs": [
    {
     "data": {
      "text/plain": [
       "house          734\n",
       "apartment      245\n",
       "vacant_land     63\n",
       "Name: property_type, dtype: int64"
      ]
     },
     "execution_count": 60,
     "metadata": {},
     "output_type": "execute_result"
    }
   ],
   "source": [
    "df.property_type.value_counts()"
   ]
  },
  {
   "cell_type": "code",
   "execution_count": 61,
   "metadata": {},
   "outputs": [
    {
     "data": {
      "text/plain": [
       "house          734\n",
       "apartment      245\n",
       "vacant_land     63\n",
       "Name: property_type, dtype: int64"
      ]
     },
     "execution_count": 61,
     "metadata": {},
     "output_type": "execute_result"
    }
   ],
   "source": [
    " df.property_type.value_counts()"
   ]
  },
  {
   "cell_type": "code",
   "execution_count": 62,
   "metadata": {},
   "outputs": [
    {
     "data": {
      "image/png": "[encoded data removed]",
      "text/plain": [
       "<Figure size 432x288 with 1 Axes>"
      ]
     },
     "metadata": {
      "needs_background": "light"
     },
     "output_type": "display_data"
    }
   ],
   "source": [
    "sns.countplot(x=df['property_type'])\n",
    "plt.savefig('Property_type_Countplot.png')"
   ]
  },
  {
   "cell_type": "code",
   "execution_count": 63,
   "metadata": {},
   "outputs": [
    {
     "data": {
      "text/plain": [
       "house          734\n",
       "apartment      245\n",
       "vacant_land     63\n",
       "Name: property_type, dtype: int64"
      ]
     },
     "execution_count": 63,
     "metadata": {},
     "output_type": "execute_result"
    }
   ],
   "source": [
    "df.property_type.value_counts()"
   ]
  },
  {
   "cell_type": "code",
   "execution_count": 64,
   "metadata": {},
   "outputs": [
    {
     "data": {
      "image/png": "[encoded data removed]",
      "text/plain": [
       "<Figure size 432x288 with 1 Axes>"
      ]
     },
     "metadata": {},
     "output_type": "display_data"
    }
   ],
   "source": [
    "# Pie chart\n",
    "labels = ['Apartment', 'House', 'Vacant_Land']\n",
    "sizes = [245, 734, 63]\n",
    "# only \"explode\" the 2nd slice (i.e. 'Rent')\n",
    "explode = (0.1, 0, 0)  \n",
    "fig1, ax1 = plt.subplots()\n",
    "ax1.pie(sizes, explode=explode, labels=labels, autopct='%1.1f%%',\n",
    "        shadow=True, startangle=90)\n",
    "# Equal aspect ratio ensures that pie is drawn as a circle\n",
    "ax1.axis('equal')  \n",
    "plt.tight_layout()\n",
    "plt.savefig('Property_type_PieChart.png')\n",
    "plt.show()"
   ]
  },
  {
   "cell_type": "markdown",
   "metadata": {},
   "source": [
    "https://www.kdnuggets.com/2018/12/feature-building-techniques-tricks-kaggle.html"
   ]
  },
  {
   "cell_type": "markdown",
   "metadata": {},
   "source": [
    "# CORRELATION MATRIX"
   ]
  },
  {
   "cell_type": "code",
   "execution_count": 65,
   "metadata": {},
   "outputs": [
    {
     "data": {
      "image/png": "[encoded data removed]",
      "text/plain": [
       "<Figure size 720x720 with 2 Axes>"
      ]
     },
     "metadata": {
      "needs_background": "light"
     },
     "output_type": "display_data"
    }
   ],
   "source": [
    "corr = df.corr()\n",
    "    #Plot figsize\n",
    "fig, ax = plt.subplots(figsize=(10, 10))\n",
    "    #Generate Color Map\n",
    "colormap = sns.diverging_palette(220, 10, as_cmap=True)\n",
    "    #Generate Heat Map, allow annotations and place floats in map\n",
    "sns.heatmap(corr, cmap=colormap, annot=True, fmt=\".2f\")\n",
    "    #Apply xticks\n",
    "plt.xticks(range(len(corr.columns)), corr.columns);\n",
    "    #Apply yticks\n",
    "plt.yticks(range(len(corr.columns)), corr.columns)\n",
    "    #show plot\n",
    "plt.savefig('Correlation_Matrix.png')\n",
    "plt.show()"
   ]
  },
  {
   "cell_type": "code",
   "execution_count": null,
   "metadata": {},
   "outputs": [],
   "source": []
  }
 ],
 "metadata": {
  "kernelspec": {
   "display_name": "Python 3",
   "language": "python",
   "name": "python3"
  },
  "language_info": {
   "codemirror_mode": {
    "name": "ipython",
    "version": 3
   },
   "file_extension": ".py",
   "mimetype": "text/x-python",
   "name": "python",
   "nbconvert_exporter": "python",
   "pygments_lexer": "ipython3",
   "version": "3.7.6"
  }
 },
 "nbformat": 4,
 "nbformat_minor": 2
}
